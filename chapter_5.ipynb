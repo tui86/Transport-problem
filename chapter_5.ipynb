{
 "cells": [
  {
   "cell_type": "markdown",
   "id": "8ee14287",
   "metadata": {},
   "source": [
    "test 1:[1000, 800]\n",
    "[800, 600]\n",
    "[[50, 80],[100, 40]]\n",
    "test 2:[300, 500], [400, 400], [[4, 6], [5, 3]]\n",
    "test 3:[250, 250], [200, 300, 150], [[8, 6, 10],[9, 7, 4]]\n",
    "test 4:[400, 500], [300, 300], [[2, 5],[3, 4]]\n",
    "test 5:[100, 100], [100, 100], [[10, 10],[10, 10]]"
   ]
  },
  {
   "cell_type": "code",
   "execution_count": 2,
   "id": "afd781bb",
   "metadata": {},
   "outputs": [
    {
     "name": "stdout",
     "output_type": "stream",
     "text": [
      "Nhập khối lượng hàng của từng điểm(tấn): \n",
      "Nhập khối lượng nhu cầu của từng điểm(tấn): \n",
      "Bảng phân phối tối ưu: \n",
      "A1 -> B1: 800.0 tấn và chi phí là 50.0\n",
      "A1 -> B2: 0.0 tấn và chi phí là 80.0\n",
      "A1 -> B3: 200.0 tấn và chi phí là 0.0\n",
      "A2 -> B1: 0.0 tấn và chi phí là 100.0\n",
      "A2 -> B2: 600.0 tấn và chi phí là 40.0\n",
      "A2 -> B3: 200.0 tấn và chi phí là 0.0\n",
      "Chi phí vận chuyển nhỏ nhất là: 64000.0\n"
     ]
    }
   ],
   "source": [
    "import numpy as np\n",
    "m=int(input(\"Nhập số lượng khu vực các điểm kinh tế: \"))\n",
    "print(\"Nhập khối lượng hàng của từng điểm(tấn): \")\n",
    "supply=[]\n",
    "for i in range(m):\n",
    "    s=float(input())\n",
    "    supply.append(s)\n",
    "supply=np.array(supply)\n",
    "\n",
    "n=int(input(\"Nhập số lượng điểm tiêu thụ hàng: \"))\n",
    "print(\"Nhập khối lượng nhu cầu của từng điểm(tấn): \")\n",
    "domand=[]\n",
    "for i in range(n):\n",
    "    s=float(input())\n",
    "    domand.append(s)\n",
    "domand=np.array(domand)\n",
    "\n",
    "cost=[]\n",
    "for i in range(len(supply)):\n",
    "    A=[]\n",
    "    for j in range(len(domand)):\n",
    "        s=float(input(f\"Nhập chi phí vận chuyển từ điểm phát A{i+1} đến điểm thu B{j+1}: \"))\n",
    "        A.append(s)\n",
    "    cost.append(A)\n",
    "cost=np.array(cost)\n",
    "#Kiểm tra xem đầu vào (khối lượng hàng) có bằng đầu ra (nhu cầu) hay không?\n",
    "if np.sum(supply)-np.sum(domand)<0: #Nếu cung bé hơn cầu\n",
    "    supply=np.hstack((supply ,np.sum(domand)-np.sum(supply))) #Tạo 1 điểm cung giả với số lượng bằng hiệu của cầu và cung\n",
    "    cost=np.vstack((cost, [0]*len(domand))) # Số tiền vận chuyển là 0\n",
    "elif np.sum(supply)-np.sum(domand)>0: #Nếu cung lớn hơn cầu\n",
    "    domand=np.hstack((domand, np.sum(supply)-np.sum(domand))) #Tạo 1 điểm cầu giả với số lượng bằng hiệu của cung và cầu\n",
    "    cost=np.hstack((cost, np.zeros((len(supply),1)))) #Số tiền vận chuyển là 0\n",
    "allocation=np.zeros_like(cost) #Tạo một biến có kích thước của biến cost\n",
    "s=supply.copy()\n",
    "d=domand.copy()\n",
    "while np.any(s > 0) and np.any(d > 0): #Kiểm tra xem còn phần tử nào trong s và d lớn hơn 0 hay không\n",
    "    mask = np.outer(s > 0, d > 0) #Lấy mảng d nhân lần lượt cho mảng c; >0 được dùng để trả về toán tử bool\n",
    "    \n",
    "    if d.shape[0] > n: #Kiểm tra xem bài toán có biến giả hay không\n",
    "        real_mask = mask[:, :n] #Nếu có, ngắt tạm thời vị trí có biến giả\n",
    "        real_cost = np.where(real_mask, cost[:, :n], np.inf) #Nếu real_mask là true, real_cost được gán bằng cost, nếu không sẽ gán inf\n",
    "\n",
    "        if np.any(real_mask): #Nếu vần còn phần tử true trong real_mask\n",
    "            a, b = np.unravel_index(np.argmin(real_cost), real_cost.shape) #gán a là vị trí phần tử nhỏ nhất của real_cost, b là kích thước của real_cost\n",
    "        else: #nếu không\n",
    "            masked_cost = np.where(mask, cost, np.inf)#Lấy phần tử bao gồm cả biến giả\n",
    "            a, b = np.unravel_index(np.argmin(masked_cost), masked_cost.shape)\n",
    "    else:# Nếu không\n",
    "        masked_cost = np.where(mask, cost, np.inf)\n",
    "        a, b = np.unravel_index(np.argmin(masked_cost), masked_cost.shape)\n",
    "\n",
    "    x = min(s[a], d[b]) \n",
    "    allocation[a][b] = x\n",
    "    s[a] -= x\n",
    "    d[b] -= x\n",
    "result=np.sum(cost*allocation)\n",
    "print(f\"Bảng phân phối tối ưu: \")\n",
    "for i in range(len(supply)):\n",
    "    for j in range(len(domand)):\n",
    "            print(f\"A{i+1} -> B{j+1}: {allocation[i][j]} tấn và chi phí là {cost[i][j]}\")\n",
    "print(f\"Chi phí vận chuyển nhỏ nhất là: {result}\")"
   ]
  }
 ],
 "metadata": {
  "kernelspec": {
   "display_name": "Python 3",
   "language": "python",
   "name": "python3"
  },
  "language_info": {
   "codemirror_mode": {
    "name": "ipython",
    "version": 3
   },
   "file_extension": ".py",
   "mimetype": "text/x-python",
   "name": "python",
   "nbconvert_exporter": "python",
   "pygments_lexer": "ipython3",
   "version": "3.13.2"
  }
 },
 "nbformat": 4,
 "nbformat_minor": 5
}
